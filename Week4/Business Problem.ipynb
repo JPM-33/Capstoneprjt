{
    "cells": [
        {
            "cell_type": "markdown",
            "metadata": {
                "collapsed": true
            },
            "source": "# Problem Statement\n\nThorugh this project I will be exporing the various neighbourhoods in the Central Toronto Borough to check for various facilities available to the residents of the area to determine the most suitable area or locality a new resident can choose to move in depending on ones prefernces."
        },
        {
            "cell_type": "markdown",
            "metadata": {},
            "source": "# API for deriving information\nI will be using the Foursquare API to get the information about the locality. However as I would be using a free developer account and limitation set by the API on such accounts the number of places per neighborhood parameter will be set to 100 and the radius parameter will be set to 500"
        },
        {
            "cell_type": "markdown",
            "metadata": {},
            "source": "# Approach\nI will be using the Kmeans clustering approach which is an unsupervised technique to group the neighbourhoods while comparing it with popular cities. This will give the users an idea of the new neighbouhood they are choosing due to the ease of comparing it with a popular neighbouhood."
        },
        {
            "cell_type": "code",
            "execution_count": null,
            "metadata": {},
            "outputs": [],
            "source": ""
        }
    ],
    "metadata": {
        "kernelspec": {
            "display_name": "Python 3.7",
            "language": "python",
            "name": "python3"
        },
        "language_info": {
            "codemirror_mode": {
                "name": "ipython",
                "version": 3
            },
            "file_extension": ".py",
            "mimetype": "text/x-python",
            "name": "python",
            "nbconvert_exporter": "python",
            "pygments_lexer": "ipython3",
            "version": "3.7.9"
        }
    },
    "nbformat": 4,
    "nbformat_minor": 1
}