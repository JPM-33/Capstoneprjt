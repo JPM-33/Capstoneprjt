{
    "cells": [
        {
            "cell_type": "markdown",
            "metadata": {
                "collapsed": true
            },
            "source": "# Data for Boroughs in Canada\nI will be using the same data used in week 3 to get the various neighbourhoods for Central Toronto. The link of the data is https://en.wikipedia.org/wiki/List_of_postal_codes_of_Canada:_M."
        },
        {
            "cell_type": "markdown",
            "metadata": {},
            "source": "The latitude and longitude will be taken from https://cocl.us/Geospatial_data"
        },
        {
            "cell_type": "markdown",
            "metadata": {},
            "source": "# Data for attractions and facilities in the neighbouhood\nThis data will be pulled from Foursqaure API. Simiar to week 3 I wil using the neighbourhood to get the various venues aviable at Fouresqaure API to further analyse the popular venues using Kmeans clustering."
        },
        {
            "cell_type": "code",
            "execution_count": null,
            "metadata": {},
            "outputs": [],
            "source": ""
        }
    ],
    "metadata": {
        "kernelspec": {
            "display_name": "Python 3.7",
            "language": "python",
            "name": "python3"
        },
        "language_info": {
            "codemirror_mode": {
                "name": "ipython",
                "version": 3
            },
            "file_extension": ".py",
            "mimetype": "text/x-python",
            "name": "python",
            "nbconvert_exporter": "python",
            "pygments_lexer": "ipython3",
            "version": "3.7.9"
        }
    },
    "nbformat": 4,
    "nbformat_minor": 1
}